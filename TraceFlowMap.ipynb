{
 "cells": [
  {
   "cell_type": "code",
   "execution_count": null,
   "metadata": {},
   "outputs": [],
   "source": [
    "import geopandas as gpd"
   ]
  },
  {
   "cell_type": "code",
   "execution_count": null,
   "metadata": {},
   "outputs": [],
   "source": [
    "# libraries\n",
    "import numpy as np\n",
    "import matplotlib.pyplot as plt"
   ]
  },
  {
   "cell_type": "code",
   "execution_count": null,
   "metadata": {},
   "outputs": [],
   "source": [
    "import pandas as pd"
   ]
  },
  {
   "cell_type": "code",
   "execution_count": null,
   "metadata": {},
   "outputs": [],
   "source": [
    "import matplotlib.patches as patches"
   ]
  },
  {
   "cell_type": "code",
   "execution_count": null,
   "metadata": {},
   "outputs": [],
   "source": [
    "import math"
   ]
  },
  {
   "cell_type": "code",
   "execution_count": null,
   "metadata": {},
   "outputs": [],
   "source": [
    "from matplotlib import cm\n",
    "from matplotlib.colors import ListedColormap, LinearSegmentedColormap"
   ]
  },
  {
   "cell_type": "code",
   "execution_count": null,
   "metadata": {},
   "outputs": [],
   "source": [
    "import matplotlib as mpl"
   ]
  },
  {
   "cell_type": "code",
   "execution_count": null,
   "metadata": {},
   "outputs": [],
   "source": [
    "import matplotlib.gridspec as gridspec"
   ]
  },
  {
   "cell_type": "markdown",
   "metadata": {},
   "source": [
    "Données des échanges"
   ]
  },
  {
   "cell_type": "code",
   "execution_count": null,
   "metadata": {},
   "outputs": [],
   "source": [
    "df = pd.read_csv(\"gildas_flow_data.csv\")"
   ]
  },
  {
   "cell_type": "code",
   "execution_count": null,
   "metadata": {},
   "outputs": [],
   "source": [
    "df.replace(to_replace={\"GR\":\"EL\"}, inplace=True)"
   ]
  },
  {
   "cell_type": "code",
   "execution_count": null,
   "metadata": {},
   "outputs": [],
   "source": [
    "df"
   ]
  },
  {
   "cell_type": "markdown",
   "metadata": {},
   "source": [
    "On calcule l'étendue de valeurs"
   ]
  },
  {
   "cell_type": "code",
   "execution_count": null,
   "metadata": {},
   "outputs": [],
   "source": [
    "data_extent = df[\"Value\"].max()-df[\"Value\"].min()"
   ]
  },
  {
   "cell_type": "markdown",
   "metadata": {},
   "source": [
    "Cartes"
   ]
  },
  {
   "cell_type": "code",
   "execution_count": null,
   "metadata": {},
   "outputs": [],
   "source": [
    "pays_europeens = gpd.read_file(\"pays.shp\", encoding=\"utf-8\")\n",
    "centroids = gpd.read_file(\"pays_centroids.shp\", encoding=\"utf-8\")"
   ]
  },
  {
   "cell_type": "markdown",
   "metadata": {},
   "source": [
    "On récupère juste les coordonnées des centroids (préalablement calculés)"
   ]
  },
  {
   "cell_type": "code",
   "execution_count": null,
   "metadata": {},
   "outputs": [],
   "source": [
    "centroids['coords'] = centroids['geometry'].apply(lambda x: x.coords[:])\n",
    "centroids['coords'] = [coords[0] for coords in centroids['coords']]"
   ]
  },
  {
   "cell_type": "markdown",
   "metadata": {},
   "source": [
    "Paramètres"
   ]
  },
  {
   "cell_type": "code",
   "execution_count": null,
   "metadata": {},
   "outputs": [],
   "source": [
    "# Taille de l'image\n",
    "figsize = (10, 10)\n",
    "# Résolution de l'image\n",
    "dpi = 200\n",
    "# Taille des ronds bleus\n",
    "markersize = 500\n",
    "# Taille de police des noms des pays\n",
    "fontsize = 12\n",
    "# Paramètre de décalage des flèches\n",
    "factormarker = 150\n",
    "# Colormap des flèches\n",
    "colormaparrows = cm.get_cmap('RdYlGn_r', 25)\n",
    "# Courbure des flèches\n",
    "radius_arrow = 0.05\n",
    "# Activer ronds non concernés\n",
    "enable_non_used_country_names = False\n",
    "# Paramètres caractéristiques des flèches\n",
    "param_arrows = \"head_width=2, head_length=3\"\n",
    "arrowswidth = 2"
   ]
  },
  {
   "cell_type": "code",
   "execution_count": null,
   "metadata": {},
   "outputs": [],
   "source": [
    "def plot_fond_de_carte(ax):\n",
    "    \"\"\"\n",
    "    Affiche le fond de carte avec les contours des pays européens\n",
    "    \"\"\"\n",
    "    pays_europeens.plot(color=\"white\", linewidth=0.5, edgecolor=\"gray\", ax=ax, zorder=1)"
   ]
  },
  {
   "cell_type": "code",
   "execution_count": null,
   "metadata": {},
   "outputs": [],
   "source": [
    "def plot_noms_pays(ax):\n",
    "    # Pour chaque centroid on affiche un gros rond bleu\n",
    "    if not enable_non_used_country_names:\n",
    "        filtered_centroids = centroids.loc[\n",
    "            (centroids[\"CNTR_ID\"].isin(df[\"Export\"]))|(centroids[\"CNTR_ID\"].isin(df[\"Import\"]))\n",
    "        ]\n",
    "    else:\n",
    "        filtered_centroids = centroids\n",
    "        \n",
    "    filtered_centroids.plot(ax=ax, marker=\"o\", color=\"#4897CA\", markersize=markersize, zorder=4)\n",
    "\n",
    "    countries_locations = {}\n",
    "    # On affiche ensuite les initiales du pays sur chaque rond\n",
    "    for idx, row in filtered_centroids.iterrows():\n",
    "        row['coords'] = (row['coords'][0], row['coords'][1])\n",
    "        plt.text(x=row['coords'][0], y=row[\"coords\"][1], s=row['CNTR_ID'], \n",
    "                     horizontalalignment='center', verticalalignment='center', size=fontsize, color=\"white\", zorder=4)\n",
    "        countries_locations[row['CNTR_ID']] = row['coords']\n",
    "    return countries_locations"
   ]
  },
  {
   "cell_type": "code",
   "execution_count": null,
   "metadata": {},
   "outputs": [],
   "source": [
    "def plot_map(filename=\"test\"):\n",
    "    plt.figure(figsize=figsize, dpi=dpi)\n",
    "\n",
    "    # On crée la grille avec les ratios pour la colorbar de droite\n",
    "    gs = gridspec.GridSpec(3, 2, width_ratios=[75, 1], height_ratios=[1, 3, 1])\n",
    "\n",
    "    # Emplacement de la carte\n",
    "    ax = plt.subplot(gs[:, 0], frameon=False)\n",
    "    x_axis = ax.axes.get_xaxis()\n",
    "    x_axis.set_visible(False)\n",
    "    y_axis = ax.axes.get_yaxis()\n",
    "    y_axis.set_visible(False)\n",
    "\n",
    "    # Fond de carte\n",
    "    plot_fond_de_carte(ax)\n",
    "\n",
    "    # Ronds pays\n",
    "    countries_locations = plot_noms_pays(ax)\n",
    "\n",
    "    # Il faut maintenant calculer les flèches\n",
    "    already_drawn = []\n",
    "    for idx, row in df.iterrows():\n",
    "        coords_export = countries_locations[row[\"Export\"]]\n",
    "        coords_import = countries_locations[row[\"Import\"]]\n",
    "    \n",
    "        # On crée un identifiant unique pour la paire export/import\n",
    "        # pour éviter de tracer la flèche deux fois au même endroit\n",
    "        joint_name = \"\".join(sorted([row[\"Export\"], row[\"Import\"]]))\n",
    "        # Si la flèche a déjà été tracée, on l'inverse\n",
    "        if joint_name in already_drawn:\n",
    "            inverse = -1.0\n",
    "        else:\n",
    "            inverse = 1.0\n",
    "        \n",
    "        # On récupère le point à gauche et celui à droite\n",
    "        left_dot = coords_export if coords_export[0] < coords_import[0] else coords_import\n",
    "        right_dot = coords_export if coords_export[0] > coords_import[0] else coords_import\n",
    "        inverted_left_right = \"->\" if coords_export[0] < coords_import[0] else \"<-\"\n",
    "        \n",
    "        # On détermine lequel est le plus haut (change la valeur des signes de décalage)\n",
    "        if left_dot[1] > right_dot[1]:\n",
    "            left_upper = 1.0\n",
    "        else:\n",
    "            left_upper = -1.0\n",
    "\n",
    "        # On calcule l'angle entre les deux points\n",
    "        alpha = math.atan((left_dot[1]-right_dot[1])/(left_dot[0]-right_dot[0]))\n",
    "        \n",
    "        # Si on a inversé la flèche, on la trace \"au-dessus\" du segment reliant les deux points\n",
    "        # c'est-à-dire on ajoute un petit angle de décalage positif\n",
    "        # Sinon, on trace \"en-dessous\" du segment\n",
    "        if inverse > 0:\n",
    "            betaleft = alpha-left_upper*math.pi/8\n",
    "            betaright = alpha+left_upper*math.pi/8\n",
    "        else:\n",
    "            betaleft = alpha+left_upper*math.pi/8\n",
    "            betaright = alpha-left_upper*math.pi/8\n",
    "        \n",
    "        # On calcule les nouvelles coordonnées des points\n",
    "        new_left_dot = (\n",
    "            left_dot[0]+markersize*factormarker*math.cos(betaleft),\n",
    "            left_dot[1]+markersize*factormarker*math.sin(betaleft)\n",
    "        )\n",
    "        new_right_dot = (\n",
    "            right_dot[0]-markersize*factormarker*math.cos(betaright),\n",
    "            right_dot[1]-markersize*factormarker*math.sin(betaright)\n",
    "        )\n",
    "\n",
    "        # On crée la flèche\n",
    "        arrow = patches.FancyArrowPatch(new_left_dot, new_right_dot,\n",
    "                                        connectionstyle=patches.ConnectionStyle.Arc3(\n",
    "                                            rad=inverse*left_upper*radius_arrow\n",
    "                                        ),\n",
    "                                        color=colormaparrows(row[\"Value\"]/data_extent),\n",
    "                                        linewidth=arrowswidth,\n",
    "                                        arrowstyle=f\"{inverted_left_right}, {param_arrows}\", zorder=2)\n",
    "        plt.gca().add_patch(arrow)\n",
    "        \n",
    "        # On ajoute la paire Import/Export aux flèches déjà tracées\n",
    "        already_drawn.append(joint_name)\n",
    "\n",
    "    # On ajoute la colorbar à droite\n",
    "    ax2 = plt.subplot(gs[1, 1])\n",
    "    # On utilise le min - max des valeurs pour la tracer\n",
    "    norm = mpl.colors.Normalize(vmin=df[\"Value\"].min(), vmax=df[\"Value\"].max())\n",
    "\n",
    "    cb1 = mpl.colorbar.ColorbarBase(ax2, cmap=colormaparrows,\n",
    "                                    norm=norm,\n",
    "                                    orientation='vertical')\n",
    "    \n",
    "    # On enregistre le fichier\n",
    "    plt.tight_layout()\n",
    "    plt.savefig(f\"{filename}.png\", dpi=dpi, bbox_inches=\"tight\")\n",
    "    plt.show()\n",
    "    plt.close()"
   ]
  },
  {
   "cell_type": "code",
   "execution_count": null,
   "metadata": {},
   "outputs": [],
   "source": [
    "plot_map(\"test_gildas\")"
   ]
  },
  {
   "cell_type": "code",
   "execution_count": null,
   "metadata": {},
   "outputs": [],
   "source": []
  },
  {
   "cell_type": "code",
   "execution_count": null,
   "metadata": {},
   "outputs": [],
   "source": []
  },
  {
   "cell_type": "code",
   "execution_count": null,
   "metadata": {},
   "outputs": [],
   "source": []
  }
 ],
 "metadata": {
  "kernelspec": {
   "display_name": "Python 3",
   "language": "python",
   "name": "python3"
  },
  "language_info": {
   "codemirror_mode": {
    "name": "ipython",
    "version": 3
   },
   "file_extension": ".py",
   "mimetype": "text/x-python",
   "name": "python",
   "nbconvert_exporter": "python",
   "pygments_lexer": "ipython3",
   "version": "3.7.4"
  }
 },
 "nbformat": 4,
 "nbformat_minor": 2
}
